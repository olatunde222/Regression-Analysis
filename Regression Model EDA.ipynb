{
 "cells": [
  {
   "cell_type": "markdown",
   "id": "92666f9e",
   "metadata": {},
   "source": [
    "## CRISP - DM Method\n",
    "\n",
    "+ Barry - Business Understanding\n",
    "+ Drove - Data Understanding  \n",
    "+ Directly to the - Data Map\n",
    "+ Medical - Modeling \n",
    "+ Emergency - Evaluation\n",
    "+ Department - mDeployment"
   ]
  },
  {
   "cell_type": "markdown",
   "id": "0760c422",
   "metadata": {},
   "source": [
    "# 1. Business Understanding\n",
    "+ forecasting tansactons\n",
    "+ Likely regression\n",
    "+ Data for years\n",
    "+ Advised data quality is okay"
   ]
  },
  {
   "cell_type": "markdown",
   "id": "843da29a",
   "metadata": {},
   "source": [
    "# 2. Data Understanding"
   ]
  },
  {
   "cell_type": "code",
   "execution_count": 1,
   "id": "e6e99b05",
   "metadata": {},
   "outputs": [],
   "source": [
    "import pandas as pd"
   ]
  },
  {
   "cell_type": "code",
   "execution_count": 2,
   "id": "0ca181f8",
   "metadata": {},
   "outputs": [],
   "source": [
    "path = 'regression.csv'\n",
    "\n",
    "# Loading the data\n",
    "df = pd.read_csv(path)"
   ]
  },
  {
   "cell_type": "code",
   "execution_count": 3,
   "id": "327bceb2",
   "metadata": {},
   "outputs": [
    {
     "data": {
      "text/html": [
       "<div>\n",
       "<style scoped>\n",
       "    .dataframe tbody tr th:only-of-type {\n",
       "        vertical-align: middle;\n",
       "    }\n",
       "\n",
       "    .dataframe tbody tr th {\n",
       "        vertical-align: top;\n",
       "    }\n",
       "\n",
       "    .dataframe thead th {\n",
       "        text-align: right;\n",
       "    }\n",
       "</style>\n",
       "<table border=\"1\" class=\"dataframe\">\n",
       "  <thead>\n",
       "    <tr style=\"text-align: right;\">\n",
       "      <th></th>\n",
       "      <th>Year</th>\n",
       "      <th>Month</th>\n",
       "      <th>Cost Centre</th>\n",
       "      <th>Account</th>\n",
       "      <th>Account Description</th>\n",
       "      <th>Account Type</th>\n",
       "      <th>Amount</th>\n",
       "    </tr>\n",
       "  </thead>\n",
       "  <tbody>\n",
       "    <tr>\n",
       "      <th>0</th>\n",
       "      <td>2019</td>\n",
       "      <td>Jan</td>\n",
       "      <td>CC100</td>\n",
       "      <td>1000000</td>\n",
       "      <td>Product Sales</td>\n",
       "      <td>Revenue</td>\n",
       "      <td>1344.051</td>\n",
       "    </tr>\n",
       "    <tr>\n",
       "      <th>1</th>\n",
       "      <td>2019</td>\n",
       "      <td>Jan</td>\n",
       "      <td>CC100</td>\n",
       "      <td>1000001</td>\n",
       "      <td>Licensing Revenue</td>\n",
       "      <td>Revenue</td>\n",
       "      <td>480.968</td>\n",
       "    </tr>\n",
       "    <tr>\n",
       "      <th>2</th>\n",
       "      <td>2019</td>\n",
       "      <td>Jan</td>\n",
       "      <td>CC100</td>\n",
       "      <td>1000002</td>\n",
       "      <td>Service Revenue</td>\n",
       "      <td>Revenue</td>\n",
       "      <td>650.820</td>\n",
       "    </tr>\n",
       "    <tr>\n",
       "      <th>3</th>\n",
       "      <td>2019</td>\n",
       "      <td>Jan</td>\n",
       "      <td>CC100</td>\n",
       "      <td>1000004</td>\n",
       "      <td>Fee Revenue</td>\n",
       "      <td>Revenue</td>\n",
       "      <td>339.360</td>\n",
       "    </tr>\n",
       "    <tr>\n",
       "      <th>4</th>\n",
       "      <td>2019</td>\n",
       "      <td>Jan</td>\n",
       "      <td>CC100</td>\n",
       "      <td>2000000</td>\n",
       "      <td>Cost of Good Sold</td>\n",
       "      <td>Expense</td>\n",
       "      <td>1125.328</td>\n",
       "    </tr>\n",
       "  </tbody>\n",
       "</table>\n",
       "</div>"
      ],
      "text/plain": [
       "   Year Month Cost Centre  Account Account Description Account Type    Amount\n",
       "0  2019   Jan       CC100  1000000       Product Sales      Revenue  1344.051\n",
       "1  2019   Jan       CC100  1000001   Licensing Revenue      Revenue   480.968\n",
       "2  2019   Jan       CC100  1000002     Service Revenue      Revenue   650.820\n",
       "3  2019   Jan       CC100  1000004         Fee Revenue      Revenue   339.360\n",
       "4  2019   Jan       CC100  2000000   Cost of Good Sold      Expense  1125.328"
      ]
     },
     "execution_count": 3,
     "metadata": {},
     "output_type": "execute_result"
    }
   ],
   "source": [
    "df.head()"
   ]
  },
  {
   "cell_type": "code",
   "execution_count": 4,
   "id": "78959a7b",
   "metadata": {
    "scrolled": true
   },
   "outputs": [
    {
     "data": {
      "text/html": [
       "<div>\n",
       "<style scoped>\n",
       "    .dataframe tbody tr th:only-of-type {\n",
       "        vertical-align: middle;\n",
       "    }\n",
       "\n",
       "    .dataframe tbody tr th {\n",
       "        vertical-align: top;\n",
       "    }\n",
       "\n",
       "    .dataframe thead th {\n",
       "        text-align: right;\n",
       "    }\n",
       "</style>\n",
       "<table border=\"1\" class=\"dataframe\">\n",
       "  <thead>\n",
       "    <tr style=\"text-align: right;\">\n",
       "      <th></th>\n",
       "      <th>Year</th>\n",
       "      <th>Month</th>\n",
       "      <th>Cost Centre</th>\n",
       "      <th>Account</th>\n",
       "      <th>Account Description</th>\n",
       "      <th>Account Type</th>\n",
       "      <th>Amount</th>\n",
       "    </tr>\n",
       "  </thead>\n",
       "  <tbody>\n",
       "    <tr>\n",
       "      <th>4207</th>\n",
       "      <td>2021</td>\n",
       "      <td>Dec</td>\n",
       "      <td>CC302</td>\n",
       "      <td>2000005</td>\n",
       "      <td>Purchases</td>\n",
       "      <td>Expense</td>\n",
       "      <td>698.121</td>\n",
       "    </tr>\n",
       "    <tr>\n",
       "      <th>4208</th>\n",
       "      <td>2021</td>\n",
       "      <td>Dec</td>\n",
       "      <td>CC302</td>\n",
       "      <td>3000000</td>\n",
       "      <td>Cash at Bank</td>\n",
       "      <td>Asset</td>\n",
       "      <td>-282.056</td>\n",
       "    </tr>\n",
       "    <tr>\n",
       "      <th>4209</th>\n",
       "      <td>2021</td>\n",
       "      <td>Dec</td>\n",
       "      <td>CC302</td>\n",
       "      <td>3000001</td>\n",
       "      <td>Inventory</td>\n",
       "      <td>Asset</td>\n",
       "      <td>537.478</td>\n",
       "    </tr>\n",
       "    <tr>\n",
       "      <th>4210</th>\n",
       "      <td>2021</td>\n",
       "      <td>Dec</td>\n",
       "      <td>CC302</td>\n",
       "      <td>3000002</td>\n",
       "      <td>Accounts Receivable</td>\n",
       "      <td>Asset</td>\n",
       "      <td>1152.680</td>\n",
       "    </tr>\n",
       "    <tr>\n",
       "      <th>4211</th>\n",
       "      <td>2021</td>\n",
       "      <td>Dec</td>\n",
       "      <td>CC302</td>\n",
       "      <td>4000001</td>\n",
       "      <td>Accounts Payable</td>\n",
       "      <td>Liability</td>\n",
       "      <td>-1020.000</td>\n",
       "    </tr>\n",
       "  </tbody>\n",
       "</table>\n",
       "</div>"
      ],
      "text/plain": [
       "      Year Month Cost Centre  Account  Account Description Account Type  \\\n",
       "4207  2021   Dec       CC302  2000005            Purchases      Expense   \n",
       "4208  2021   Dec       CC302  3000000         Cash at Bank        Asset   \n",
       "4209  2021   Dec       CC302  3000001            Inventory        Asset   \n",
       "4210  2021   Dec       CC302  3000002  Accounts Receivable        Asset   \n",
       "4211  2021   Dec       CC302  4000001     Accounts Payable    Liability   \n",
       "\n",
       "        Amount  \n",
       "4207   698.121  \n",
       "4208  -282.056  \n",
       "4209   537.478  \n",
       "4210  1152.680  \n",
       "4211 -1020.000  "
      ]
     },
     "execution_count": 4,
     "metadata": {},
     "output_type": "execute_result"
    }
   ],
   "source": [
    "df.tail()"
   ]
  },
  {
   "cell_type": "code",
   "execution_count": 5,
   "id": "5b04338d",
   "metadata": {},
   "outputs": [
    {
     "name": "stdout",
     "output_type": "stream",
     "text": [
      "<class 'pandas.core.frame.DataFrame'>\n",
      "RangeIndex: 4212 entries, 0 to 4211\n",
      "Data columns (total 7 columns):\n",
      " #   Column               Non-Null Count  Dtype  \n",
      "---  ------               --------------  -----  \n",
      " 0   Year                 4212 non-null   int64  \n",
      " 1   Month                4212 non-null   object \n",
      " 2   Cost Centre          4212 non-null   object \n",
      " 3   Account              4212 non-null   int64  \n",
      " 4   Account Description  4212 non-null   object \n",
      " 5   Account Type         4212 non-null   object \n",
      " 6   Amount               4212 non-null   float64\n",
      "dtypes: float64(1), int64(2), object(4)\n",
      "memory usage: 230.5+ KB\n"
     ]
    }
   ],
   "source": [
    "df.info()"
   ]
  },
  {
   "cell_type": "code",
   "execution_count": 7,
   "id": "5fb01b40",
   "metadata": {},
   "outputs": [
    {
     "data": {
      "text/plain": [
       "Index(['Year', 'Month', 'Cost Centre', 'Account', 'Account Description',\n",
       "       'Account Type', 'Amount'],\n",
       "      dtype='object')"
      ]
     },
     "execution_count": 7,
     "metadata": {},
     "output_type": "execute_result"
    }
   ],
   "source": [
    "df.columns"
   ]
  },
  {
   "cell_type": "code",
   "execution_count": 10,
   "id": "332c92cc",
   "metadata": {},
   "outputs": [
    {
     "name": "stdout",
     "output_type": "stream",
     "text": [
      "Year 3 [2019 2020 2021]\n",
      "Month 12 ['Jan' 'Feb' 'Mar' 'Apr' 'May' 'Jun' 'Jul' 'Aug' 'Sep' 'Oct' 'Nov' 'Dec']\n",
      "Cost Centre 9 ['CC100' 'CC101' 'CC102' 'CC200' 'CC201' 'CC202' 'CC300' 'CC301' 'CC302']\n",
      "Account 13 [1000000 1000001 1000002 1000004 2000000 2000001 2000002 2000003 2000005\n",
      " 3000000 3000001 3000002 4000001]\n",
      "Account Description 13 ['Product Sales' 'Licensing Revenue' 'Service Revenue' 'Fee Revenue'\n",
      " 'Cost of Good Sold' 'Staff Expenses' 'Technology Expenses'\n",
      " 'Property Expenses' 'Purchases' 'Cash at Bank' 'Inventory'\n",
      " 'Accounts Receivable' 'Accounts Payable']\n",
      "Account Type 4 ['Revenue' 'Expense' 'Asset' 'Liability']\n",
      "Amount 3956 [1344.051  480.968  650.82  ... -282.056  537.478 1152.68 ]\n"
     ]
    }
   ],
   "source": [
    "# Looping through the data columns and finding the unique values in each \n",
    "\n",
    "for col in df.columns:\n",
    "    print(col, len(df[col].unique()), df[col].unique())"
   ]
  },
  {
   "cell_type": "code",
   "execution_count": 11,
   "id": "ade78f4f",
   "metadata": {},
   "outputs": [
    {
     "data": {
      "text/html": [
       "<div>\n",
       "<style scoped>\n",
       "    .dataframe tbody tr th:only-of-type {\n",
       "        vertical-align: middle;\n",
       "    }\n",
       "\n",
       "    .dataframe tbody tr th {\n",
       "        vertical-align: top;\n",
       "    }\n",
       "\n",
       "    .dataframe thead th {\n",
       "        text-align: right;\n",
       "    }\n",
       "</style>\n",
       "<table border=\"1\" class=\"dataframe\">\n",
       "  <thead>\n",
       "    <tr style=\"text-align: right;\">\n",
       "      <th></th>\n",
       "      <th>Year</th>\n",
       "      <th>Account</th>\n",
       "      <th>Amount</th>\n",
       "    </tr>\n",
       "  </thead>\n",
       "  <tbody>\n",
       "    <tr>\n",
       "      <th>count</th>\n",
       "      <td>4212.000000</td>\n",
       "      <td>4.212000e+03</td>\n",
       "      <td>4212.000000</td>\n",
       "    </tr>\n",
       "    <tr>\n",
       "      <th>mean</th>\n",
       "      <td>2020.000000</td>\n",
       "      <td>2.076925e+06</td>\n",
       "      <td>476.470421</td>\n",
       "    </tr>\n",
       "    <tr>\n",
       "      <th>std</th>\n",
       "      <td>0.816594</td>\n",
       "      <td>9.167528e+05</td>\n",
       "      <td>477.296234</td>\n",
       "    </tr>\n",
       "    <tr>\n",
       "      <th>min</th>\n",
       "      <td>2019.000000</td>\n",
       "      <td>1.000000e+06</td>\n",
       "      <td>-1020.000000</td>\n",
       "    </tr>\n",
       "    <tr>\n",
       "      <th>25%</th>\n",
       "      <td>2019.000000</td>\n",
       "      <td>1.000004e+06</td>\n",
       "      <td>268.044500</td>\n",
       "    </tr>\n",
       "    <tr>\n",
       "      <th>50%</th>\n",
       "      <td>2020.000000</td>\n",
       "      <td>2.000002e+06</td>\n",
       "      <td>512.998500</td>\n",
       "    </tr>\n",
       "    <tr>\n",
       "      <th>75%</th>\n",
       "      <td>2021.000000</td>\n",
       "      <td>3.000000e+06</td>\n",
       "      <td>755.960250</td>\n",
       "    </tr>\n",
       "    <tr>\n",
       "      <th>max</th>\n",
       "      <td>2021.000000</td>\n",
       "      <td>4.000001e+06</td>\n",
       "      <td>2378.880000</td>\n",
       "    </tr>\n",
       "  </tbody>\n",
       "</table>\n",
       "</div>"
      ],
      "text/plain": [
       "              Year       Account       Amount\n",
       "count  4212.000000  4.212000e+03  4212.000000\n",
       "mean   2020.000000  2.076925e+06   476.470421\n",
       "std       0.816594  9.167528e+05   477.296234\n",
       "min    2019.000000  1.000000e+06 -1020.000000\n",
       "25%    2019.000000  1.000004e+06   268.044500\n",
       "50%    2020.000000  2.000002e+06   512.998500\n",
       "75%    2021.000000  3.000000e+06   755.960250\n",
       "max    2021.000000  4.000001e+06  2378.880000"
      ]
     },
     "execution_count": 11,
     "metadata": {},
     "output_type": "execute_result"
    }
   ],
   "source": [
    "# summary statistics \n",
    "\n",
    "df.describe()"
   ]
  },
  {
   "cell_type": "code",
   "execution_count": 15,
   "id": "57956a6b",
   "metadata": {},
   "outputs": [
    {
     "data": {
      "text/plain": [
       "Year                     int64\n",
       "Month                   object\n",
       "Cost Centre             object\n",
       "Account                  int64\n",
       "Account Description     object\n",
       "Account Type            object\n",
       "Amount                 float64\n",
       "dtype: object"
      ]
     },
     "execution_count": 15,
     "metadata": {},
     "output_type": "execute_result"
    }
   ],
   "source": [
    "df.dtypes"
   ]
  },
  {
   "cell_type": "markdown",
   "id": "57701697",
   "metadata": {},
   "source": [
    "## Visualize Data"
   ]
  },
  {
   "cell_type": "code",
   "execution_count": 12,
   "id": "4bbdd4cc",
   "metadata": {},
   "outputs": [],
   "source": [
    "from matplotlib import pyplot as plt\n",
    "import seaborn as sns"
   ]
  },
  {
   "cell_type": "code",
   "execution_count": 16,
   "id": "9700b228",
   "metadata": {},
   "outputs": [
    {
     "data": {
      "image/png": "[encoded data removed]",
      "text/plain": [
       "<Figure size 1440x432 with 1 Axes>"
      ]
     },
     "metadata": {
      "needs_background": "light"
     },
     "output_type": "display_data"
    }
   ],
   "source": [
    "# Checking the distribution of Account Type to amount\n",
    "\n",
    "plt.figure(figsize=(20,6))\n",
    "sns.violinplot(data=df, x='Account Type', y='Amount').set_title('Account Type violinplot')\n",
    "plt.show()"
   ]
  },
  {
   "cell_type": "code",
   "execution_count": null,
   "id": "7fa0938a",
   "metadata": {},
   "outputs": [],
   "source": []
  },
  {
   "cell_type": "code",
   "execution_count": null,
   "id": "46911196",
   "metadata": {},
   "outputs": [],
   "source": []
  },
  {
   "cell_type": "code",
   "execution_count": null,
   "id": "1cedb2f7",
   "metadata": {},
   "outputs": [],
   "source": []
  },
  {
   "cell_type": "markdown",
   "id": "60a02a99",
   "metadata": {},
   "source": [
    "# 3. Data preparation"
   ]
  },
  {
   "cell_type": "markdown",
   "id": "00ea9aab",
   "metadata": {},
   "source": [
    "# 4. Modelling"
   ]
  },
  {
   "cell_type": "markdown",
   "id": "18c29e6a",
   "metadata": {},
   "source": [
    "# 5. Evaluation"
   ]
  },
  {
   "cell_type": "markdown",
   "id": "271f6e92",
   "metadata": {},
   "source": [
    "# Deployment"
   ]
  },
  {
   "cell_type": "code",
   "execution_count": null,
   "id": "abe49644",
   "metadata": {},
   "outputs": [],
   "source": []
  }
 ],
 "metadata": {
  "kernelspec": {
   "display_name": "Python 3 (ipykernel)",
   "language": "python",
   "name": "python3"
  },
  "language_info": {
   "codemirror_mode": {
    "name": "ipython",
    "version": 3
   },
   "file_extension": ".py",
   "mimetype": "text/x-python",
   "name": "python",
   "nbconvert_exporter": "python",
   "pygments_lexer": "ipython3",
   "version": "3.9.12"
  }
 },
 "nbformat": 4,
 "nbformat_minor": 5
}
